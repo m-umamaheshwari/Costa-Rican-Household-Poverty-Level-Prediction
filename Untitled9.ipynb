{
  "nbformat": 4,
  "nbformat_minor": 0,
  "metadata": {
    "colab": {
      "private_outputs": true,
      "provenance": [],
      "authorship_tag": "ABX9TyPyIXMKifEz7ZrU2Rn4874B",
      "include_colab_link": true
    },
    "kernelspec": {
      "name": "python3",
      "display_name": "Python 3"
    },
    "language_info": {
      "name": "python"
    }
  },
  "cells": [
    {
      "cell_type": "markdown",
      "metadata": {
        "id": "view-in-github",
        "colab_type": "text"
      },
      "source": [
        "<a href=\"https://colab.research.google.com/github/m-umamaheshwari/Costa-Rican-Household-Poverty-Level-Prediction/blob/main/Untitled9.ipynb\" target=\"_parent\"><img src=\"https://colab.research.google.com/assets/colab-badge.svg\" alt=\"Open In Colab\"/></a>"
      ]
    },
    {
      "cell_type": "code",
      "execution_count": null,
      "metadata": {
        "id": "NQJ2WsIPvD_X"
      },
      "outputs": [],
      "source": [
        "# Data manipulation\n",
        "import pandas as pd\n",
        "import numpy as np\n",
        "\n",
        "# Visualization\n",
        "import matplotlib.pyplot as plt\n",
        "import seaborn as sns\n",
        "\n",
        "# Set a few plotting defaults\n",
        "%matplotlib inline"
      ]
    },
    {
      "source": [
        "pd.options.display.max_columns = 150\n",
        "\n",
        "# Read in data\n",
        "train = pd.read_csv('train.csv')\n",
        "test = pd.read_csv('test.csv')\n",
        "train.head()\n",
        "\n",
        "test['Target'] = np.nan\n",
        "# Use pd.concat instead of train.append\n",
        "data = pd.concat([train, test], ignore_index=True)\n",
        "\n",
        "# Heads of household\n",
        "heads = data.loc[data['parentesco1'] == 1].copy()\n",
        "\n",
        "# Labels for training\n",
        "train_labels = data.loc[(data['Target'].notnull()) & (data['parentesco1'] == 1), ['Target', 'idhogar']]\n",
        "\n",
        "# Value counts of target\n",
        "label_counts = train_labels['Target'].value_counts().sort_index()"
      ],
      "cell_type": "code",
      "metadata": {
        "id": "hQlGaKUbvtW4"
      },
      "execution_count": null,
      "outputs": []
    },
    {
      "cell_type": "code",
      "source": [
        "test.head()\n",
        "\n",
        "\n"
      ],
      "metadata": {
        "id": "zRf1ykDvv01J"
      },
      "execution_count": null,
      "outputs": []
    },
    {
      "cell_type": "code",
      "source": [
        "unique_values = train.groupby('idhogar')['Target'].apply(lambda x: x.nunique() == 1)\n",
        "different_households = unique_values[unique_values != True]\n",
        "print('There are {} households where the family members do not all have the same target.'.format(len(different_households)))"
      ],
      "metadata": {
        "id": "CMG5TXQAv61J"
      },
      "execution_count": null,
      "outputs": []
    },
    {
      "cell_type": "code",
      "source": [
        "train[train['idhogar'] == different_households.index[0]][['idhogar', 'parentesco1', 'Target']]\n"
      ],
      "metadata": {
        "id": "pso-nprDwA4V"
      },
      "execution_count": null,
      "outputs": []
    },
    {
      "cell_type": "code",
      "source": [
        "check_leader = train.groupby('idhogar')['parentesco1'].sum()\n",
        "\n",
        "#Check for head\n",
        "no_head = train.loc[train['idhogar'].isin(check_leader[check_leader == 0].index), :]\n",
        "print('There are {} households without a head.'.format(no_head['idhogar'].nunique()))"
      ],
      "metadata": {
        "id": "ldPXpozSwEnC"
      },
      "execution_count": null,
      "outputs": []
    },
    {
      "cell_type": "code",
      "source": [
        "no_head_equal = no_head.groupby('idhogar')['Target'].apply(lambda x: x.nunique() == 1)\n",
        "print('{} Households with no head have different labels.'.format(sum(no_head_equal == False)))\n"
      ],
      "metadata": {
        "id": "8IhgXuHGwJSa"
      },
      "execution_count": null,
      "outputs": []
    },
    {
      "cell_type": "code",
      "source": [
        "for each_household in different_households.index:\n",
        "\n",
        "    #find the correct label\n",
        "    true_target = int(train[(train['idhogar'] == each_household) & (train['parentesco1'] == 1.0)]['Target'])\n",
        "\n",
        "    #assign the correct label for each member\n",
        "    train.loc[train['idhogar'] == each_household, 'Target'] = true_target\n",
        "\n",
        "unique_values = train.groupby('idhogar')['Target'].apply(lambda x: x.nunique() == 1)\n",
        "different_households = unique_values[unique_values != True]\n",
        "print('There are {} households where the family members do not all have the same target.'.format(len(different_households)))"
      ],
      "metadata": {
        "id": "LGdw_iw3whVX"
      },
      "execution_count": null,
      "outputs": []
    },
    {
      "cell_type": "code",
      "source": [
        "\n",
        "missing_variables = pd.DataFrame(data.isnull().sum()).rename(columns = {0: 'total'})\n",
        "missing_variables['percent'] = missing_variables['total']/len(data)\n",
        "missing_variables.sort_values('percent', ascending = False).head(10).drop('Target')"
      ],
      "metadata": {
        "id": "h8WEncnvwhbs"
      },
      "execution_count": null,
      "outputs": []
    },
    {
      "cell_type": "code",
      "source": [
        "heads.groupby('v18q')['v18q1'].apply(lambda x: x.isnull().sum())\n"
      ],
      "metadata": {
        "id": "t6s7u81wwxYn"
      },
      "execution_count": null,
      "outputs": []
    },
    {
      "cell_type": "code",
      "source": [
        "data['v18q1'] = data['v18q1'].fillna(0)\n"
      ],
      "metadata": {
        "id": "8k744oFxwxc2"
      },
      "execution_count": null,
      "outputs": []
    },
    {
      "cell_type": "code",
      "source": [
        "# Fill in households that own the house with 0 rent payment\n",
        "data.loc[(data['tipovivi1'] == 1), 'v2a1'] = 0\n",
        "\n",
        "# Create missing rent payment column\n",
        "data['v2a1-missing'] = data['v2a1'].isnull()\n",
        "\n",
        "data['v2a1-missing'].value_counts()"
      ],
      "metadata": {
        "id": "icJJjpn2w7zm"
      },
      "execution_count": null,
      "outputs": []
    },
    {
      "cell_type": "code",
      "source": [
        "data.loc[data['rez_esc'].notnull()]['age'].describe()\n"
      ],
      "metadata": {
        "id": "ONraLdEdw_z5"
      },
      "execution_count": null,
      "outputs": []
    },
    {
      "cell_type": "code",
      "source": [
        "# If individual is over 19 or younger than 7 and missing years behind, set it to 0\n",
        "data.loc[((data['age'] > 19) | (data['age'] < 7)) & (data['rez_esc'].isnull()), 'rez_esc'] = 0\n",
        "\n",
        "# Add a flag for those between 7 and 19 with a missing value\n",
        "data['rez_esc-missing'] = data['rez_esc'].isnull()\n",
        "\n",
        "#Setting the maximum value to 5\n",
        "data.loc[data['rez_esc'] > 5, 'rez_esc'] = 5"
      ],
      "metadata": {
        "id": "QKQIcDCXxEZU"
      },
      "execution_count": null,
      "outputs": []
    }
  ]
}